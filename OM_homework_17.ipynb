# 1. Write SQL queries for table creation for data model that you crated for prev homework (AirBnb model)
CREATE TABLE users (
  id INTEGER PRIMARY KEY,
  username VARCHAR,
  role VARCHAR
);
CREATE TABLE hosts (
  id INTEGER PRIMARY KEY,
  description TEXT,
  FOREIGN KEY (id) REFERENCES users (id)
);
CREATE TABLE guests (
  id INTEGER PRIMARY KEY,
  description TEXT,
  FOREIGN KEY (id) REFERENCES users (id)
);
CREATE TABLE rooms (
  id INTEGER PRIMARY KEY,
  host_id INTEGER,
  name VARCHAR,
  description TEXT,
  price_per_night DECIMAL,
  max_amount_of_guests INTEGER,
  air_conditioning BOOLEAN,
  refrigerator BOOLEAN,
  sea_view BOOLEAN,
  balcony BOOLEAN,
  FOREIGN KEY (host_id) REFERENCES hosts (id)
);
CREATE TABLE rooms (
  id INTEGER PRIMARY KEY,
  host_id INTEGER,
  name VARCHAR,
  description TEXT,
  price_per_night DECIMAL,
  max_amount_of_guests INTEGER,
  air_conditioning BOOLEAN,
  refrigerator BOOLEAN,
  sea_view BOOLEAN,
  balcony BOOLEAN,
  FOREIGN KEY (host_id) REFERENCES hosts (id)
);
CREATE TABLE reservations (
  id INTEGER PRIMARY KEY,
  room_id INTEGER,
  guest_id INTEGER,
  check_in_date DATE,
  check_out_date DATE,
  total_price DECIMAL,
  FOREIGN KEY (room_id) REFERENCES rooms (id),
  FOREIGN KEY (guest_id) REFERENCES guests (id)
);
CREATE TABLE reviews (
  id INTEGER PRIMARY KEY,
  guest_id INTEGER,
  room_id INTEGER,
  host_id INTEGER,
  rating INTEGER,
  comments TEXT,
  FOREIGN KEY (guest_id) REFERENCES guests (id),
  FOREIGN KEY (room_id) REFERENCES rooms (id),
  FOREIGN KEY (host_id) REFERENCES hosts (id)
);
CREATE TABLE payments (
  id INTEGER PRIMARY KEY,
  guest_id INTEGER,
  reservation_id INTEGER,
  payment_amount DECIMAL,
  payment_date TIMESTAMP,
  FOREIGN KEY (guest_id) REFERENCES guests (id),
  FOREIGN KEY (reservation_id) REFERENCES reservations (id)
);

# 2. Write 3 rows (using INSERT queries) for each table in the data model
INSERT INTO users (id, username, role) VALUES
  (1, 'oleg_m', 'host'),
  (2, 'andrii_luk', 'host'),
  (3, 'yurii_kolo', 'guest');

INSERT INTO hosts (id, description) VALUES
  (1, 'Experienced host with multiple properties'),
  (2, 'New host excited to welcome guests'),
  (3, 'Seasonal host with a beachfront property');

INSERT INTO guests (id) VALUES
  (1, 'Noisy'),
  (2, 'Very polite'),
  (3, 'No comments');

INSERT INTO rooms (id, host_id, name, description, price_per_night, max_amount_of_guests, air_conditioning, refrigerator, sea_view, balcony) VALUES
  (1, 1, 'Cozy Studio Apartment', 'Perfect for couples or solo travelers', 75.00, 2, true, true, false, true),
  (2, 1, 'Spacious 2BR Apartment', 'Great for families or small groups', 125.00, 4, true, true, true, true),
  (3, 2, 'Private Room with Bath', 'Ideal for solo travelers or couples', 50.00, 2, false, true, false, false);

INSERT INTO reservations (id, room_id, guest_id, check_in_date, check_out_date, total_price) VALUES
  (1, 1, 3, '2023-05-15', '2023-05-18', 225.00),
  (2, 2, 4, '2023-07-01', '2023-07-05', 500.00),
  (3, 3, 5, '2023-06-10', '2023-06-13', 150.00);

INSERT INTO reviews (id, guest_id, room_id, host_id, rating, comments) VALUES
  (1, 3, 1, 1, 4, 'Great location and comfortable space'),
  (2, 4, 2, 1, 5, 'Amazing amenities and excellent host'),
  (3, 5, 3, 2, 3, 'Decent value for the price');

INSERT INTO payments (id, guest_id, reservation_id, payment_amount, payment_date) VALUES
  (1, 3, 1, 225.00, '2023-05-15 21:15:00'),
  (2, 4, 2, 500.00, '2023-02-11 18:30:00'),
  (3, 5, 3, 150.00, '2023-04-22 18:45:00');

# 3. Create next analytic queries:
# 3-1. Find a user who had biggest amount of reservation. Return user name and user_id

SELECT users.id AS user_id, users.username AS user_name, COUNT(reservations.id) AS reservation_count
FROM users
JOIN guests ON users.id = guests.id
JOIN reservations ON guests.id = reservations.guest_id
GROUP BY users.id
ORDER BY reservation_count DESC
LIMIT 1;

# 3-3. (Optional) Find a host with best average rating. Return host name and host_id

SELECT users.id AS host_id, users.username AS host_name, AVG(reviews.rating) AS avg_rating
FROM users
JOIN hosts ON users.id = hosts.id
JOIN rooms ON hosts.id = rooms.host_id
JOIN reviews ON rooms.id = reviews.room_id
GROUP BY users.id
ORDER BY avg_rating DESC
LIMIT 1;
